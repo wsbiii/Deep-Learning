{
  "nbformat": 4,
  "nbformat_minor": 0,
  "metadata": {
    "colab": {
      "provenance": [],
      "authorship_tag": "ABX9TyNOd/DJFP0WL3DDCjNkqn3y",
      "include_colab_link": true
    },
    "kernelspec": {
      "name": "python3",
      "display_name": "Python 3"
    },
    "language_info": {
      "name": "python"
    }
  },
  "cells": [
    {
      "cell_type": "markdown",
      "metadata": {
        "id": "view-in-github",
        "colab_type": "text"
      },
      "source": [
        "<a href=\"https://colab.research.google.com/github/wsbiii/Deep-Learning/blob/main/Langchain_Document_Loaders.ipynb\" target=\"_parent\"><img src=\"https://colab.research.google.com/assets/colab-badge.svg\" alt=\"Open In Colab\"/></a>"
      ]
    },
    {
      "cell_type": "markdown",
      "source": [
        "Load Text"
      ],
      "metadata": {
        "id": "3BO6UhRnD2eB"
      }
    },
    {
      "cell_type": "code",
      "source": [
        "from langchain_community.document_loaders import TextLoader\n",
        "loader = TextLoader('data.txt')\n",
        "data = loader.load()\n",
        "print(data[0])"
      ],
      "metadata": {
        "id": "BwDFy83_D1Hy"
      },
      "execution_count": null,
      "outputs": []
    },
    {
      "cell_type": "markdown",
      "source": [
        "Load PDF (PyPDFLoader and PyMuLoader)"
      ],
      "metadata": {
        "id": "bLqyBnN7EdXy"
      }
    },
    {
      "cell_type": "code",
      "execution_count": null,
      "metadata": {
        "id": "h7DVatZDB6TQ"
      },
      "outputs": [],
      "source": [
        "from langchain_community.document_loaders import PyPDFLoader\n",
        "loader = PyPDFLoader(\"data.pdf\")\n",
        "pages = loader.load_and_split()\n",
        "print(pages[0])"
      ]
    },
    {
      "cell_type": "code",
      "source": [
        "from langchain_community.document_loaders import PyMuPDFLoader\n",
        "loader = PyMuPDFLoader(\"data.pdf\")\n",
        "pages = loader.load_and_split()\n",
        "print(pages[0])"
      ],
      "metadata": {
        "id": "qdh5K96bEsj8"
      },
      "execution_count": null,
      "outputs": []
    },
    {
      "cell_type": "markdown",
      "source": [
        "Load Markdown"
      ],
      "metadata": {
        "id": "zkBS1OQXE74g"
      }
    },
    {
      "cell_type": "code",
      "source": [
        "from langchain_community.document_loaders import UnstructuredMarkdownLoader\n",
        "loader = UnstructuredMarkdownLoader(\"data.md\")\n",
        "pages = loader.load_and_split()\n",
        "print(pages[0])"
      ],
      "metadata": {
        "id": "Qa0ZDNCvE-Gd"
      },
      "execution_count": null,
      "outputs": []
    },
    {
      "cell_type": "markdown",
      "source": [
        "Load JSON"
      ],
      "metadata": {
        "id": "voCmNdDoFHSD"
      }
    },
    {
      "cell_type": "code",
      "source": [
        "from langchain_community.document_loaders import JSONLoader\n",
        "loader = JSONLoader(\"data.json\")\n",
        "pages = loader.load_and_split()\n",
        "print(pages[0])"
      ],
      "metadata": {
        "id": "SJd9ZRW4FJRO"
      },
      "execution_count": null,
      "outputs": []
    },
    {
      "cell_type": "markdown",
      "source": [
        "Load CSV"
      ],
      "metadata": {
        "id": "dLqWA4A3ErhO"
      }
    },
    {
      "cell_type": "code",
      "source": [
        "from langchain_community.document_loaders import CSVLoader\n",
        "loader = CSVLoader(\"data.csv\")\n",
        "pages = loader.load_and_split()\n",
        "print(pages[0])"
      ],
      "metadata": {
        "id": "gi7qGjwuFah4"
      },
      "execution_count": null,
      "outputs": []
    },
    {
      "cell_type": "markdown",
      "source": [
        "Load Website (BeautifulSoup and Langchain)"
      ],
      "metadata": {
        "id": "wbE6tfqTEnEH"
      }
    },
    {
      "cell_type": "code",
      "source": [
        "import requests\n",
        "from bs4 import BeautifulSoup\n",
        "\n",
        "url = \"https://www.example.com\"\n",
        "response = requests.get(url)\n",
        "\n",
        "soup = BeautifulSoup(response.text, 'html.parser')\n",
        "print(soup.prettify())"
      ],
      "metadata": {
        "id": "nn7MPPchFhqO"
      },
      "execution_count": null,
      "outputs": []
    },
    {
      "cell_type": "code",
      "source": [
        "from langchain_community.document_loaders import WebBaseLoader\n",
        "loader = WebBaseLoader(\"https://www.example.com\")\n",
        "pages = loader.load_and_split()\n",
        "print(pages[0])"
      ],
      "metadata": {
        "id": "w_ZzblktGLQR"
      },
      "execution_count": null,
      "outputs": []
    },
    {
      "cell_type": "markdown",
      "source": [
        "Load Multiple Websites"
      ],
      "metadata": {
        "id": "sbJoet3yGCLw"
      }
    },
    {
      "cell_type": "code",
      "source": [
        "from langchain_community.document_loaders import WebBaseLoader\n",
        "loader = WebBaseLoader([\"https://www.example.com\", \"https://www.example2.com\"])\n",
        "pages = loader.load_and_split()\n",
        "print(pages[0])"
      ],
      "metadata": {
        "id": "VcAH35GKGVXB"
      },
      "execution_count": null,
      "outputs": []
    },
    {
      "cell_type": "markdown",
      "source": [
        "Load Word"
      ],
      "metadata": {
        "id": "WE6JZkNjGoDg"
      }
    },
    {
      "cell_type": "code",
      "source": [
        "from langchain_community.document_loaders import Docx2txtLoader\n",
        "loader = Docx2txtLoader(\"data.docx\")\n",
        "pages = loader.load_and_split()\n",
        "print(pages[0])"
      ],
      "metadata": {
        "id": "-1bWNCcGGp1P"
      },
      "execution_count": null,
      "outputs": []
    },
    {
      "cell_type": "markdown",
      "source": [
        "UnstructuredFileLoader"
      ],
      "metadata": {
        "id": "DR96xUQOG2rc"
      }
    },
    {
      "cell_type": "code",
      "source": [
        "from langchain_community.document_loaders import UnstructuredFileLoader\n",
        "loader = UnstructuredFileLoader(\"data.txt\",\n",
        "                                \"markdown.md\")\n",
        "pages = loader.load_and_split()\n",
        "print(pages[0])"
      ],
      "metadata": {
        "id": "M_z8LAcdG5Ge"
      },
      "execution_count": null,
      "outputs": []
    },
    {
      "cell_type": "markdown",
      "source": [
        "load_and_split vs load"
      ],
      "metadata": {
        "id": "sxWO0MyBHGYs"
      }
    },
    {
      "cell_type": "code",
      "source": [
        "pages = loader.load_and_split()\n",
        "print(pages[0])\n",
        "\n",
        "data = loader.load()\n",
        "data"
      ],
      "metadata": {
        "id": "LYN-2F_MHL1A"
      },
      "execution_count": null,
      "outputs": []
    }
  ]
}