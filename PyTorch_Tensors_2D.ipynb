{
  "cells": [
    {
      "cell_type": "markdown",
      "metadata": {
        "id": "view-in-github",
        "colab_type": "text"
      },
      "source": [
        "<a href=\"https://colab.research.google.com/github/wsbiii/Deep-Learning/blob/main/PyTorch_Tensors_2D.ipynb\" target=\"_parent\"><img src=\"https://colab.research.google.com/assets/colab-badge.svg\" alt=\"Open In Colab\"/></a>"
      ]
    },
    {
      "cell_type": "markdown",
      "metadata": {
        "id": "708ed164-fa04-4821-b41a-973a004936dd"
      },
      "source": [
        "<h1>Two-Dimensional Tensors</h1>\n"
      ]
    },
    {
      "cell_type": "markdown",
      "source": [
        "# Preparation"
      ],
      "metadata": {
        "id": "B1kEjbaKIMIc"
      }
    },
    {
      "cell_type": "code",
      "metadata": {
        "id": "adfbd797-eb92-4b6f-b5d9-1b6e639805a0"
      },
      "outputs": [],
      "source": [
        "import numpy as np\n",
        "import matplotlib.pyplot as plt\n",
        "import torch\n",
        "import pandas as pd"
      ],
      "execution_count": 1
    },
    {
      "cell_type": "markdown",
      "source": [
        "# Types and Shapes"
      ],
      "metadata": {
        "id": "FcmQXoZdIktn"
      }
    },
    {
      "cell_type": "markdown",
      "source": [
        "## 2D list to a 2D tensor"
      ],
      "metadata": {
        "id": "1oyfjus5IuuJ"
      }
    },
    {
      "cell_type": "markdown",
      "metadata": {
        "id": "0f4c7ff2-a655-45e4-a393-96f7c1af6109"
      },
      "source": [
        "<code>torch.tensor(2D_list)</code> changes a 2D list to a tensor\n"
      ]
    },
    {
      "cell_type": "code",
      "metadata": {
        "id": "280a0ac4-5cf9-4b42-9c9e-d77549411864",
        "colab": {
          "base_uri": "https://localhost:8080/"
        },
        "outputId": "49f049e3-6a38-4516-d270-934180cbeeaa"
      },
      "outputs": [
        {
          "output_type": "stream",
          "name": "stdout",
          "text": [
            "The New 2D Tensor:  tensor([[11, 12, 13],\n",
            "        [21, 22, 23],\n",
            "        [31, 32, 33]])\n"
          ]
        }
      ],
      "source": [
        "# Create the list\n",
        "twoD_list = [[11, 12, 13], [21, 22, 23], [31, 32, 33]]\n",
        "\n",
        "# Change the list to a tensor\n",
        "twoD_tensor = torch.tensor(twoD_list)\n",
        "\n",
        "# Print the tensor\n",
        "print(\"The New 2D Tensor: \", twoD_tensor)"
      ],
      "execution_count": 4
    },
    {
      "cell_type": "markdown",
      "metadata": {
        "id": "7e1dbb2f-6e8b-4bd8-bdaf-74361a5888e7"
      },
      "source": [
        "<code><i>tensor_obj</i>.ndimension()</code>, <code><i>tensor_obj</i>.shape</code>, <code><i>tensor_obj</i>.size()</code>, and <code><i>tensor_obj</i>.numel()</code>\n"
      ]
    },
    {
      "cell_type": "code",
      "metadata": {
        "id": "a25944e7-a392-44c5-aaff-32669295e151",
        "colab": {
          "base_uri": "https://localhost:8080/"
        },
        "outputId": "e82038e5-b2c2-45d7-8b51-608deb757cd3"
      },
      "outputs": [
        {
          "output_type": "stream",
          "name": "stdout",
          "text": [
            ".ndimension()):  2\n",
            ".shape():  torch.Size([3, 3])\n",
            ".size():  torch.Size([3, 3])\n",
            "number of elements:  9\n"
          ]
        }
      ],
      "source": [
        "# Try tensor_obj.ndimension(), tensor_obj.shape, tensor_obj.size()\n",
        "\n",
        "print(\".ndimension()): \", twoD_tensor.ndimension())\n",
        "print(\".shape(): \", twoD_tensor.shape)\n",
        "print(\".size(): \", twoD_tensor.size())\n",
        "print(\"number of elements: \", twoD_tensor.numel())"
      ],
      "execution_count": 5
    },
    {
      "cell_type": "markdown",
      "metadata": {
        "id": "f4c1683d-55a4-4c13-8304-42a1397aed61"
      },
      "source": [
        "## Numpy Arrays and Tensors\n"
      ]
    },
    {
      "cell_type": "code",
      "metadata": {
        "id": "0d355d15-f5d5-4972-aa2e-63a81cebf94b",
        "colab": {
          "base_uri": "https://localhost:8080/"
        },
        "outputId": "c7012ca0-635f-4b66-902d-ff97dcfcd5bf"
      },
      "outputs": [
        {
          "output_type": "stream",
          "name": "stdout",
          "text": [
            "Tensor -> Numpy Array:\n",
            "The numpy array after converting:  [[11 12 13]\n",
            " [21 22 23]\n",
            " [31 32 33]]\n",
            "Type after converting:  int64\n",
            "================================================\n",
            "Numpy Array -> Tensor:\n",
            "The tensor after converting: tensor([[11, 12, 13],\n",
            "        [21, 22, 23],\n",
            "        [31, 32, 33]])\n",
            "Type after converting:  torch.int64\n"
          ]
        }
      ],
      "source": [
        "# Convert tensor to numpy array; Convert numpy array to tensor\n",
        "\n",
        "twoD_numpy = twoD_tensor.numpy()\n",
        "\n",
        "print(\"Tensor -> Numpy Array:\")\n",
        "print(\"The numpy array after converting: \", twoD_numpy)\n",
        "print(\"Type after converting: \", twoD_numpy.dtype)\n",
        "\n",
        "print(\"================================================\")\n",
        "\n",
        "new_twoD_tensor = torch.from_numpy(twoD_numpy)\n",
        "\n",
        "print(\"Numpy Array -> Tensor:\")\n",
        "print(\"The tensor after converting:\", new_twoD_tensor)\n",
        "print(\"Type after converting: \", new_twoD_tensor.dtype)"
      ],
      "execution_count": 6
    },
    {
      "cell_type": "markdown",
      "metadata": {
        "id": "4d3a0741-888c-418d-bc4f-9c7627b6b246"
      },
      "source": [
        "## Pandas Dataframes and Tensors\n"
      ]
    },
    {
      "cell_type": "code",
      "metadata": {
        "id": "482ab8c8-374a-43c2-88a5-9ec787683f19",
        "colab": {
          "base_uri": "https://localhost:8080/"
        },
        "outputId": "4f88ce40-ad0d-416f-aba1-b5a021839c5e"
      },
      "outputs": [
        {
          "output_type": "stream",
          "name": "stdout",
          "text": [
            "Pandas Dataframe to numpy:  [[ 11  12]\n",
            " [ 21  22]\n",
            " [ 31 312]]\n",
            "Before:  int64\n",
            "================================================\n",
            "New Tensor:  tensor([[ 11,  12],\n",
            "        [ 21,  22],\n",
            "        [ 31, 312]])\n",
            "New Type:  torch.int64\n"
          ]
        }
      ],
      "source": [
        "# Create the dataframe\n",
        "df = pd.DataFrame({'A':[11, 33, 22],'B':[3, 3, 2]})\n",
        "\n",
        "# Change the dataframe to an array\n",
        "new_tensor = torch.from_numpy(df.values)\n",
        "\n",
        "print(\"New tensor:\", new_tensor)\n",
        "print(\"Type\", type(new_tensor))"
      ],
      "execution_count": 7
    },
    {
      "cell_type": "markdown",
      "metadata": {
        "id": "d386b64c-9fc5-4d39-b0f7-d04e6748bd44"
      },
      "source": [
        "<h2 id=\"Index_Slice\">Indexing and Slicing</h2>\n"
      ]
    },
    {
      "cell_type": "markdown",
      "source": [
        "##Indexing"
      ],
      "metadata": {
        "id": "LA6ZqjJOW8Ii"
      }
    },
    {
      "cell_type": "markdown",
      "source": [
        " <code>tensor_obj[row, column]</code> and <code>tensor_obj[row][column]</code>"
      ],
      "metadata": {
        "id": "QJ25vgovWvam"
      }
    },
    {
      "cell_type": "code",
      "metadata": {
        "id": "2cf1dc2f-4a2a-4c5a-909d-b6ffb92057af",
        "colab": {
          "base_uri": "https://localhost:8080/"
        },
        "outputId": "5a784422-5e2b-4955-fda0-9fc1cd8425ca"
      },
      "outputs": [
        {
          "output_type": "stream",
          "name": "stdout",
          "text": [
            "2nd-row 3rd-column  tensor(23)\n",
            "2nd-row 3rd-column  tensor(23)\n"
          ]
        }
      ],
      "source": [
        "# Create a tensor\n",
        "tensor_example = torch.tensor([[11, 12, 13], [21, 22, 23], [31, 32, 33]])\n",
        "\n",
        "print(\"2nd-row 3rd-column: \", tensor_example[1, 2])\n",
        "print(\"2nd-row 3rd-column: \", tensor_example[1][2])"
      ],
      "execution_count": 12
    },
    {
      "cell_type": "markdown",
      "metadata": {
        "id": "975f383c-80d0-487b-b471-024e8b714fc4"
      },
      "source": [
        "## Slicing"
      ]
    },
    {
      "cell_type": "markdown",
      "source": [
        "<code>tensor_obj[begin_row_number: end_row_number, begin_column_number: end_column number]</code> and <code>tensor_obj[row][begin_column_number: end_column number]</code> slice the tensor object"
      ],
      "metadata": {
        "id": "AoW1zQ-AXgG4"
      }
    },
    {
      "cell_type": "code",
      "metadata": {
        "id": "6ebdf50d-9147-437f-91e3-7abfb107ac7d",
        "colab": {
          "base_uri": "https://localhost:8080/"
        },
        "outputId": "1971cea4-9f26-4d98-8ab8-0b49382c20c8"
      },
      "outputs": [
        {
          "output_type": "stream",
          "name": "stdout",
          "text": [
            "1st-row first two columns:  tensor([11, 12])\n",
            "1st-row first two columns:  tensor([11, 12])\n"
          ]
        }
      ],
      "source": [
        "tensor_example = torch.tensor([[11, 12, 13], [21, 22, 23], [31, 32, 33]])\n",
        "\n",
        "print(\"1st-row first two columns: \", tensor_example[0, 0:2])\n",
        "print(\"1st-row first two columns: \", tensor_example[0][0:2])"
      ],
      "execution_count": 15
    },
    {
      "cell_type": "code",
      "metadata": {
        "id": "8bae35d7-6aa5-4ea4-8ea4-607ac102a0dc",
        "colab": {
          "base_uri": "https://localhost:8080/"
        },
        "outputId": "8dc458b6-3261-40d3-84b8-f76c84682ff7"
      },
      "outputs": [
        {
          "output_type": "stream",
          "name": "stdout",
          "text": [
            "1. Slicing step on tensor_example: \n",
            "Result after tensor_example[1:3]:  tensor([[21, 22, 23],\n",
            "        [31, 32, 33]])\n",
            "Dimension after tensor_example[1:3]:  2\n",
            "================================================\n",
            "2. Pick an index on sliced_tensor_example: \n",
            "Result after sliced_tensor_example[1]:  tensor([31, 32, 33])\n",
            "Dimension after sliced_tensor_example[1]:  1\n",
            "================================================\n",
            "3. Combine these step together:\n",
            "Result:  tensor([31, 32, 33])\n",
            "Dimension:  1\n"
          ]
        }
      ],
      "source": [
        "# Give an idea on tensor_obj[number: number][number]\n",
        "\n",
        "tensor_example = torch.tensor([[11, 12, 13], [21, 22, 23], [31, 32, 33]])\n",
        "sliced_tensor_example = tensor_example[1:3]\n",
        "print(\"1. Slicing step on tensor_example: \")\n",
        "print(\"Result after tensor_example[1:3]: \", sliced_tensor_example)\n",
        "print(\"Dimension after tensor_example[1:3]: \", sliced_tensor_example.ndimension())\n",
        "print(\"================================================\")\n",
        "print(\"2. Pick an index on sliced_tensor_example: \")\n",
        "print(\"Result after sliced_tensor_example[1]: \", sliced_tensor_example[1])\n",
        "print(\"Dimension after sliced_tensor_example[1]: \", sliced_tensor_example[1].ndimension())\n",
        "print(\"================================================\")\n",
        "print(\"3. Combine these step together:\")\n",
        "print(\"Result: \", tensor_example[1:3][1])\n",
        "print(\"Dimension: \", tensor_example[1:3][1].ndimension())"
      ],
      "execution_count": 16
    },
    {
      "cell_type": "code",
      "metadata": {
        "id": "34af89ff-2953-4859-933b-e62b0fe85d5a",
        "colab": {
          "base_uri": "https://localhost:8080/"
        },
        "outputId": "d3530530-0e2f-48f4-c7ed-36d8a114f4c4"
      },
      "outputs": [
        {
          "output_type": "stream",
          "name": "stdout",
          "text": [
            "What is the value on 3rd-column last two rows?  tensor([23, 33])\n"
          ]
        }
      ],
      "source": [
        "# Use tensor_obj[begin_row_number: end_row_number, begin_column_number: end_column number]\n",
        "\n",
        "tensor_example = torch.tensor([[11, 12, 13], [21, 22, 23], [31, 32, 33]])\n",
        "print(\"What is the value on 3rd-column last two rows? \", tensor_example[1:3, 2])"
      ],
      "execution_count": 17
    },
    {
      "cell_type": "markdown",
      "metadata": {
        "id": "b4f8c9e3-69ef-4841-b2c3-7fbbcf39f2c3"
      },
      "source": [
        "<h2 id=\"Tensor_Op\">Tensor Operations</h2>\n"
      ]
    },
    {
      "cell_type": "markdown",
      "source": [
        "### Addition"
      ],
      "metadata": {
        "id": "KM8b7BmOZk5m"
      }
    },
    {
      "cell_type": "code",
      "metadata": {
        "id": "c3b6d6b8-8275-4886-90df-8d3394b2ac29",
        "colab": {
          "base_uri": "https://localhost:8080/"
        },
        "outputId": "40c3fbeb-b614-465e-c430-700585bce77c"
      },
      "outputs": [
        {
          "output_type": "stream",
          "name": "stdout",
          "text": [
            "The result of X + Y:  tensor([[3, 1],\n",
            "        [1, 3]])\n"
          ]
        }
      ],
      "source": [
        "# Calculate [[1, 0], [0, 1]] + [[2, 1], [1, 2]]\n",
        "\n",
        "X = torch.tensor([[1, 0],[0, 1]])\n",
        "Y = torch.tensor([[2, 1],[1, 2]])\n",
        "X_plus_Y = X + Y\n",
        "print(\"The result of X + Y: \", X_plus_Y)"
      ],
      "execution_count": 18
    },
    {
      "cell_type": "markdown",
      "metadata": {
        "id": "bc92dda4-f36b-4c3c-945c-3a9fd65d9f79"
      },
      "source": [
        "### Scalar Multiplication\n"
      ]
    },
    {
      "cell_type": "code",
      "metadata": {
        "id": "99b70487-77c1-424b-a6f7-08a3cc5dc2eb",
        "colab": {
          "base_uri": "https://localhost:8080/"
        },
        "outputId": "ce4b5d98-2b88-4837-ee47-6248b76b369d"
      },
      "outputs": [
        {
          "output_type": "stream",
          "name": "stdout",
          "text": [
            "The result of 2Y:  tensor([[4, 2],\n",
            "        [2, 4]])\n"
          ]
        }
      ],
      "source": [
        "Y = torch.tensor([[2, 1], [1, 2]])\n",
        "two_Y = 2 * Y\n",
        "print(\"The result of 2Y: \", two_Y)"
      ],
      "execution_count": 20
    },
    {
      "cell_type": "markdown",
      "metadata": {
        "id": "814a851f-e788-4e9a-920f-83f17e338354"
      },
      "source": [
        "### Element-wise Product/Hadamard Product"
      ]
    },
    {
      "cell_type": "code",
      "metadata": {
        "id": "3fe69ce5-6cd4-4a7d-a6ca-09e65cdefbf0",
        "colab": {
          "base_uri": "https://localhost:8080/"
        },
        "outputId": "9bd0c66c-49b1-42cf-c811-62b8bf0e9bb9"
      },
      "outputs": [
        {
          "output_type": "stream",
          "name": "stdout",
          "text": [
            "The result of X * Y:  tensor([[2, 0],\n",
            "        [0, 2]])\n"
          ]
        }
      ],
      "source": [
        "X = torch.tensor([[1, 0], [0, 1]])\n",
        "Y = torch.tensor([[2, 1], [1, 2]])\n",
        "X_times_Y = X * Y\n",
        "print(\"The result of X * Y: \", X_times_Y)"
      ],
      "execution_count": 21
    },
    {
      "cell_type": "markdown",
      "metadata": {
        "id": "436169d0-9f64-4dac-a59c-c092117fdb7a"
      },
      "source": [
        "### Matrix Multiplication"
      ]
    },
    {
      "cell_type": "markdown",
      "metadata": {
        "id": "154aaa04-a7b0-45f7-a4e1-e3e5daef81e3"
      },
      "source": [
        "<code>torch.mm()</code> multiplies tensors with different dimensions.\n"
      ]
    },
    {
      "cell_type": "code",
      "metadata": {
        "id": "4849cb55-d0bf-4243-aad2-6a7c3844df7b",
        "colab": {
          "base_uri": "https://localhost:8080/"
        },
        "outputId": "214d0cc4-5719-4250-f7ff-4364e39c3687"
      },
      "outputs": [
        {
          "output_type": "stream",
          "name": "stdout",
          "text": [
            "The result of A * B:  tensor([[0, 2],\n",
            "        [0, 2]])\n"
          ]
        }
      ],
      "source": [
        "A = torch.tensor([[0, 1, 1], [1, 0, 1]])\n",
        "B = torch.tensor([[1, 1], [1, 1], [-1, 1]])\n",
        "A_times_B = torch.mm(A,B)\n",
        "print(\"The result of A * B: \", A_times_B)"
      ],
      "execution_count": 22
    },
    {
      "cell_type": "markdown",
      "metadata": {
        "id": "9070a0f5-c198-4d90-bad8-135297261e66"
      },
      "source": [
        "<!--Empty Space for separating topics-->\n"
      ]
    }
  ],
  "metadata": {
    "kernelspec": {
      "display_name": "Python",
      "language": "python",
      "name": "conda-env-python-py"
    },
    "language_info": {
      "name": ""
    },
    "colab": {
      "provenance": [],
      "toc_visible": true,
      "include_colab_link": true
    }
  },
  "nbformat": 4,
  "nbformat_minor": 0
}