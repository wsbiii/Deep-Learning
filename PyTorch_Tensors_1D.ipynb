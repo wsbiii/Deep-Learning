{
  "cells": [
    {
      "cell_type": "markdown",
      "metadata": {
        "id": "view-in-github",
        "colab_type": "text"
      },
      "source": [
        "<a href=\"https://colab.research.google.com/github/wsbiii/Deep-Learning/blob/main/PyTorch_Tensors_1D.ipynb\" target=\"_parent\"><img src=\"https://colab.research.google.com/assets/colab-badge.svg\" alt=\"Open In Colab\"/></a>"
      ]
    },
    {
      "cell_type": "markdown",
      "metadata": {
        "id": "58e66479-6385-4123-870a-1dd0ac14a5bd"
      },
      "source": [
        "<h1>Torch Tensors in 1D</h1>\n"
      ]
    },
    {
      "cell_type": "markdown",
      "source": [
        "##Introduction"
      ],
      "metadata": {
        "id": "xDzbp1Ky_CkK"
      }
    },
    {
      "cell_type": "markdown",
      "source": [
        "### Objective"
      ],
      "metadata": {
        "id": "6J7Twbm4_hW_"
      }
    },
    {
      "cell_type": "markdown",
      "source": [
        "To learn 1D torch tensors"
      ],
      "metadata": {
        "id": "A7zay2D3_jhs"
      }
    },
    {
      "cell_type": "markdown",
      "metadata": {
        "id": "e4c497a0-a540-4c69-95e8-70c0792ff3f4"
      },
      "source": [
        "Import PyTorch, NumPy, Pandas, and Matplotlib:\n"
      ]
    },
    {
      "cell_type": "code",
      "metadata": {
        "id": "4d4e07a8-5425-4674-9c67-3820824bcbcf"
      },
      "outputs": [],
      "source": [
        "import torch\n",
        "import numpy as np\n",
        "import pandas as pd\n",
        "\n",
        "import matplotlib.pyplot as plt\n",
        "%matplotlib inline"
      ],
      "execution_count": 1
    },
    {
      "cell_type": "markdown",
      "metadata": {
        "id": "2a81a283-ac01-43db-9b30-12aaedbf9c1d"
      },
      "source": [
        "Check PyTorch version:\n"
      ]
    },
    {
      "cell_type": "code",
      "metadata": {
        "id": "edd35e5b-e9b0-4022-9919-54c2ae463427",
        "colab": {
          "base_uri": "https://localhost:8080/",
          "height": 36
        },
        "outputId": "4262137e-0605-4a00-abfb-3087111b77a9"
      },
      "outputs": [
        {
          "output_type": "execute_result",
          "data": {
            "text/plain": [
              "'2.3.1+cu121'"
            ],
            "application/vnd.google.colaboratory.intrinsic+json": {
              "type": "string"
            }
          },
          "metadata": {},
          "execution_count": 2
        }
      ],
      "source": [
        "torch.__version__"
      ],
      "execution_count": 2
    },
    {
      "cell_type": "markdown",
      "metadata": {
        "id": "bb5de85e-2b2d-4ec9-b3a6-9770829319b1"
      },
      "source": [
        "Define function for plotting vectors.\n"
      ]
    },
    {
      "cell_type": "code",
      "metadata": {
        "id": "97883525-9d32-4f16-aeb4-ffbb56ffc771"
      },
      "outputs": [],
      "source": [
        "# Plot vecotrs, please keep the parameters in the same length\n",
        "# @param: Vectors = [{\"vector\": vector variable, \"name\": name of vector, \"color\": color of the vector on diagram}]\n",
        "\n",
        "def plotVec(vectors):\n",
        "    ax = plt.axes()\n",
        "\n",
        "    # For loop to draw the vectors\n",
        "    for vec in vectors:\n",
        "        ax.arrow(0, 0, *vec[\"vector\"], head_width = 0.05,color = vec[\"color\"], head_length = 0.1)\n",
        "        plt.text(*(vec[\"vector\"] + 0.1), vec[\"name\"])\n",
        "\n",
        "    plt.ylim(-2,2)\n",
        "    plt.xlim(-2,2)"
      ],
      "execution_count": 3
    },
    {
      "cell_type": "markdown",
      "metadata": {
        "id": "bea1fd58-a1b1-4a9a-9a7e-0d48c96ab296"
      },
      "source": [
        "## Types\n"
      ]
    },
    {
      "cell_type": "markdown",
      "source": [
        "### Lists to Tensors"
      ],
      "metadata": {
        "id": "hyOI3_WrTJec"
      }
    },
    {
      "cell_type": "markdown",
      "metadata": {
        "id": "03194904-c58f-4e51-85f2-1cc9e3dbd653"
      },
      "source": [
        "Create a 1D tensor from a list.\n",
        "\n",
        "<code>tensor_object.dtype</code> returns the data type of the tensor object.\n",
        "\n",
        "<code>tensor_object.type()</code> and <code>type(tensor_object)</code> returns the tensor type.\n"
      ]
    },
    {
      "cell_type": "code",
      "metadata": {
        "id": "fcdc450a-7153-4620-99c3-82f70a8c0660",
        "colab": {
          "base_uri": "https://localhost:8080/"
        },
        "outputId": "3a81b4d6-d319-466e-acaf-d8981ad4e4b6"
      },
      "outputs": [
        {
          "output_type": "stream",
          "name": "stdout",
          "text": [
            "The dtype of tensor object after converting it to tensor:  torch.int64\n",
            "The type of tensor object after converting it to tensor:  torch.LongTensor\n"
          ]
        }
      ],
      "source": [
        "# Create the tensor\n",
        "ints_to_tensor = torch.tensor([0, 8, 6, 32, 21, 63])\n",
        "\n",
        "# Print the tensor type and data type\n",
        "print(\"dtype: \", ints_to_tensor.dtype)\n",
        "print(\"type: \", ints_to_tensor.type())"
      ],
      "execution_count": 51
    },
    {
      "cell_type": "code",
      "metadata": {
        "id": "965f7e51-e382-4d79-b8de-4c4f423c057f",
        "colab": {
          "base_uri": "https://localhost:8080/"
        },
        "outputId": "3597cdf3-1d6c-410e-deb5-5030e3ff310f"
      },
      "outputs": [
        {
          "output_type": "execute_result",
          "data": {
            "text/plain": [
              "torch.Tensor"
            ]
          },
          "metadata": {},
          "execution_count": 57
        }
      ],
      "source": [
        "type(ints_to_tensor)"
      ],
      "execution_count": 57
    },
    {
      "cell_type": "markdown",
      "source": [
        "Notice that <code>tensor_object.type()</code> and <code>type(tensor_object)</code> produce slightly different results."
      ],
      "metadata": {
        "id": "m-tDqVGcBdQO"
      }
    },
    {
      "cell_type": "markdown",
      "source": [
        "Convert a float list to a tensor."
      ],
      "metadata": {
        "id": "xE2jmGwZS5B3"
      }
    },
    {
      "cell_type": "code",
      "metadata": {
        "id": "f0d3f08e-adda-40a1-b1fb-a85de0873659",
        "colab": {
          "base_uri": "https://localhost:8080/"
        },
        "outputId": "699aa98b-53b3-4c38-f283-554a0473f1e1"
      },
      "outputs": [
        {
          "output_type": "stream",
          "name": "stdout",
          "text": [
            "dtype:  torch.float32\n",
            "type:  torch.FloatTensor\n"
          ]
        }
      ],
      "source": [
        "# Create the tensor\n",
        "floats_to_tensor = torch.tensor([8.85, 43.533, 10.53, 0.332, 4.3774])\n",
        "\n",
        "# Print the tensor type and data type\n",
        "print(\"dtype: \", floats_to_tensor.dtype)\n",
        "print(\"type: \", floats_to_tensor.type())"
      ],
      "execution_count": 53
    },
    {
      "cell_type": "markdown",
      "metadata": {
        "id": "706a87ae-a966-4c92-ab39-3578c6693126"
      },
      "source": [
        "Convert the float list to int tensor.\n"
      ]
    },
    {
      "cell_type": "code",
      "metadata": {
        "id": "c18f3898-1206-4ae8-bb94-4635ee604b24",
        "colab": {
          "base_uri": "https://localhost:8080/"
        },
        "outputId": "62e4aae8-12f5-4a09-bade-cb89b432f3a0"
      },
      "outputs": [
        {
          "output_type": "stream",
          "name": "stdout",
          "text": [
            "dtype:  torch.int64\n",
            "type:  torch.LongTensor\n"
          ]
        }
      ],
      "source": [
        "# Create the list\n",
        "list_floats=[0.948, 31.034, 425.103, 3.84, 62.04]\n",
        "\n",
        "#Convert the list to a tensor\n",
        "floats_int_tensor=torch.tensor(list_floats,dtype=torch.int64)\n",
        "\n",
        "# Print the data type and type of tensor\n",
        "print(\"dtype: \", floats_int_tensor.dtype)\n",
        "print(\"type: \", floats_int_tensor.type())"
      ],
      "execution_count": 58
    },
    {
      "cell_type": "markdown",
      "source": [
        "### Lists to Specified Tensor"
      ],
      "metadata": {
        "id": "kxNDLf2tTkQc"
      }
    },
    {
      "cell_type": "markdown",
      "metadata": {
        "id": "22c23413-cc9a-4485-835b-ddfd2fdbee93"
      },
      "source": [
        "<code>torch.FloatTensor(tensor_object)</code> to convert an integer list to a float tensor.\n"
      ]
    },
    {
      "cell_type": "code",
      "metadata": {
        "id": "3d3dbdfd-e6a2-4da4-a41b-f2a9902f9c6e",
        "colab": {
          "base_uri": "https://localhost:8080/"
        },
        "outputId": "1622bab9-fa35-4681-ae18-32042415a7e5"
      },
      "outputs": [
        {
          "output_type": "stream",
          "name": "stdout",
          "text": [
            "type: torch.FloatTensor\n"
          ]
        }
      ],
      "source": [
        "# Create a float tensor\n",
        "new_float_tensor = torch.FloatTensor([10, 14, 42, 31, 24])\n",
        "\n",
        "# Print the tensor\n",
        "print(\"type:\", new_float_tensor.type())"
      ],
      "execution_count": 60
    },
    {
      "cell_type": "markdown",
      "source": [
        " <code>tensor_object.type(torch.FloatTensor)</code> to change int tensor to float tensor"
      ],
      "metadata": {
        "id": "zIMm_uiOgw_7"
      }
    },
    {
      "cell_type": "code",
      "metadata": {
        "id": "fce758c1-cef3-4f42-9b68-2565166b7ec0",
        "colab": {
          "base_uri": "https://localhost:8080/"
        },
        "outputId": "155bd9bc-7598-4aa3-90b9-09ffcae94b83"
      },
      "outputs": [
        {
          "output_type": "stream",
          "name": "stdout",
          "text": [
            "type: torch.FloatTensor\n"
          ]
        }
      ],
      "source": [
        "# Create the tensor\n",
        "old_int_tensor = torch.tensor([0, 1, 2, 3, 4])\n",
        "\n",
        "# Change int to float tensor\n",
        "new_float_tensor = old_int_tensor.type(torch.FloatTensor)\n",
        "\n",
        "# Print the type of tensor\n",
        "print(\"type:\", new_float_tensor.type())"
      ],
      "execution_count": 61
    },
    {
      "cell_type": "markdown",
      "metadata": {
        "id": "f8e058b0-28ee-4d67-9f32-32f2c1ac5107"
      },
      "source": [
        "### Sizes\n"
      ]
    },
    {
      "cell_type": "markdown",
      "metadata": {
        "id": "3afbdaa3-980d-46ba-b06b-a1e6c9d143ae"
      },
      "source": [
        "<code><i>tensor_obj</i>.size()</code> returns the size of the tensor object.\n",
        "\n",
        "<code><i>tensor_obj</i>.ndimension()</code> returns the dimension of the tensor object.\n"
      ]
    },
    {
      "cell_type": "code",
      "metadata": {
        "id": "817ee126-d240-4bb7-9b47-eb5e87228a5a",
        "colab": {
          "base_uri": "https://localhost:8080/"
        },
        "outputId": "bf247954-eee2-457e-806a-c3d14493592a"
      },
      "outputs": [
        {
          "output_type": "stream",
          "name": "stdout",
          "text": [
            "size:  torch.Size([5])\n",
            "dimension:  1\n"
          ]
        }
      ],
      "source": [
        "# Print the size and dimension of the tensor\n",
        "print(\"size: \", new_float_tensor.size())\n",
        "print(\"dimension: \",new_float_tensor.ndimension())"
      ],
      "execution_count": 62
    },
    {
      "cell_type": "markdown",
      "metadata": {
        "id": "3f08a978-7b14-4fb9-a64a-dd278b76d1d9"
      },
      "source": [
        "## Reshape"
      ]
    },
    {
      "cell_type": "markdown",
      "source": [
        "### Change the Dimensions"
      ],
      "metadata": {
        "id": "lZFHP9EPE-Cu"
      }
    },
    {
      "cell_type": "markdown",
      "metadata": {
        "id": "bb6fef00-c476-48b5-ac73-fb84e1935f40"
      },
      "source": [
        "<code><i>tensor_obj</i>.view(<i>row, column</i>)</code> reshapes a tensor object<br>\n"
      ]
    },
    {
      "cell_type": "code",
      "metadata": {
        "id": "86b9b475-064c-459d-9f34-78ab1312c33c",
        "colab": {
          "base_uri": "https://localhost:8080/"
        },
        "outputId": "40e6762d-b51f-44e3-8038-8a41ea824014"
      },
      "outputs": [
        {
          "output_type": "stream",
          "name": "stdout",
          "text": [
            "Before: tensor([0., 1., 2., 3., 4.])\n",
            "After: tensor([[0.],\n",
            "        [1.],\n",
            "        [2.],\n",
            "        [3.],\n",
            "        [4.]])\n"
          ]
        }
      ],
      "source": [
        "# Reshape the tensor\n",
        "twoD_float_tensor = new_float_tensor.view(5, 1)\n",
        "\n",
        "# Print the tensor\n",
        "print(\"Before:\", new_float_tensor)\n",
        "print(\"After:\", twoD_float_tensor)"
      ],
      "execution_count": 64
    },
    {
      "cell_type": "markdown",
      "metadata": {
        "id": "9b54495f-17af-4c36-b7d8-1a3dc40f82ad"
      },
      "source": [
        "<code>tensor_object.view(-1, #)</code> or <code>(#, -1)</code> reshapes tensors with changing dimensions\n"
      ]
    },
    {
      "cell_type": "code",
      "source": [
        "# Reshape the tensor\n",
        "twoD_float_tensor = new_float_tensor.view(-1, 1)\n",
        "\n",
        "# Print the new shape\n",
        "print(\"Before: \", new_float_tensor)\n",
        "print(\"After:\", twoD_float_tensor)"
      ],
      "metadata": {
        "colab": {
          "base_uri": "https://localhost:8080/"
        },
        "id": "NK_ag25AjKFK",
        "outputId": "2a9cd7c2-0764-4873-ed69-05a1a3187a05"
      },
      "execution_count": 65,
      "outputs": [
        {
          "output_type": "stream",
          "name": "stdout",
          "text": [
            "Before:  tensor([0., 1., 2., 3., 4.])\n",
            "After: tensor([[0.],\n",
            "        [1.],\n",
            "        [2.],\n",
            "        [3.],\n",
            "        [4.]])\n"
          ]
        }
      ]
    },
    {
      "cell_type": "code",
      "metadata": {
        "id": "36ca2070-788d-4538-a8da-52134f83709f",
        "colab": {
          "base_uri": "https://localhost:8080/"
        },
        "outputId": "8115d228-af8b-4065-cb73-dfda8f316a75"
      },
      "outputs": [
        {
          "output_type": "stream",
          "name": "stdout",
          "text": [
            "Before:  tensor([0., 1., 2., 3., 4.])\n",
            "After: tensor([[0.],\n",
            "        [1.],\n",
            "        [2.],\n",
            "        [3.],\n",
            "        [4.]])\n"
          ]
        }
      ],
      "source": [
        "# Reshape the tensor\n",
        "twoD_float_tensor = new_float_tensor.view(5, -1)\n",
        "\n",
        "# Print the new shape\n",
        "print(\"Before: \", new_float_tensor)\n",
        "print(\"After:\", twoD_float_tensor)"
      ],
      "execution_count": 66
    },
    {
      "cell_type": "markdown",
      "source": [
        "### Numpy Arrays, Pandas Series, and Tensors"
      ],
      "metadata": {
        "id": "oyGAV6mkFCTO"
      }
    },
    {
      "cell_type": "markdown",
      "metadata": {
        "id": "01cbac2f-f848-4d30-906c-7df8ada8dd9f"
      },
      "source": [
        "<code>torch.from_numpy(numpy_array)</code> converts a numpy array to a tensor"
      ]
    },
    {
      "cell_type": "code",
      "metadata": {
        "id": "25f1e3c3-7512-4928-b624-3159f9dc2a47",
        "colab": {
          "base_uri": "https://localhost:8080/"
        },
        "outputId": "1f90403c-f01f-443a-fe29-4a6768e88949"
      },
      "outputs": [
        {
          "output_type": "stream",
          "name": "stdout",
          "text": [
            "dtype:  torch.float64\n",
            "type:  torch.DoubleTensor\n"
          ]
        }
      ],
      "source": [
        "# Create a numpy array\n",
        "numpy_array = np.array([0.0, 1.0, 2.0, 3.0, 4.0])\n",
        "\n",
        "# Create a tensor from the array\n",
        "new_tensor = torch.from_numpy(numpy_array)\n",
        "\n",
        "# Print the dtype and type of the new tensor\n",
        "print(\"dtype: \", new_tensor.dtype)\n",
        "print(\"type: \", new_tensor.type())"
      ],
      "execution_count": 68
    },
    {
      "cell_type": "markdown",
      "metadata": {
        "id": "d7ef22ee-9f72-429d-a60a-a4aac270d332"
      },
      "source": [
        "<code>tensor_object.numpy()</code> converts the tensor object to a numpy array"
      ]
    },
    {
      "cell_type": "code",
      "metadata": {
        "id": "85fe61e0-486a-4204-b52b-1235a499af3f",
        "colab": {
          "base_uri": "https://localhost:8080/"
        },
        "outputId": "aeb882f8-dfb0-4482-ec11-49f3039c9180"
      },
      "outputs": [
        {
          "output_type": "stream",
          "name": "stdout",
          "text": [
            "The numpy array from tensor:  [0. 1. 2. 3. 4.]\n",
            "dtype:  float64\n"
          ]
        }
      ],
      "source": [
        "# Change the tensor back to a numpy array\n",
        "back_to_numpy = new_tensor.numpy()\n",
        "\n",
        "# Print the new array and type\n",
        "print(\"The numpy array from tensor: \", back_to_numpy)\n",
        "print(\"dtype: \", back_to_numpy.dtype)"
      ],
      "execution_count": 69
    },
    {
      "cell_type": "markdown",
      "metadata": {
        "id": "2e713e28-b7ae-4f1b-b482-736554044534"
      },
      "source": [
        "<code> new_tensor=torch.from_numpy(pandas_series.values)</code> will convert a Pandas Series to a **numpy array** then to a **tensor**\n"
      ]
    },
    {
      "cell_type": "code",
      "metadata": {
        "id": "d47504fa-9303-43e8-bda0-c92c72a942ba",
        "colab": {
          "base_uri": "https://localhost:8080/"
        },
        "outputId": "62d69f5e-a0d7-42f4-cb74-5b1622936af7"
      },
      "outputs": [
        {
          "output_type": "stream",
          "name": "stdout",
          "text": [
            "new tensor:  tensor([ 0.1000,  2.0000,  0.3000, 10.1000], dtype=torch.float64)\n",
            "dtype:  torch.float64\n",
            "type:  torch.DoubleTensor\n"
          ]
        }
      ],
      "source": [
        "# Create a pandas series\n",
        "pandas_series=pd.Series([0.1, 2, 0.3, 10.1])\n",
        "\n",
        "# Change the pandas series to a tensor\n",
        "new_tensor=torch.from_numpy(pandas_series.values)\n",
        "\n",
        "# Print the new tensor and type\n",
        "print(\"new tensor: \", new_tensor)\n",
        "print(\"dtype: \", new_tensor.dtype)\n",
        "print(\"type: \", new_tensor.type())"
      ],
      "execution_count": 70
    },
    {
      "cell_type": "markdown",
      "source": [
        "### Item"
      ],
      "metadata": {
        "id": "Ba-NT6OXGLTJ"
      }
    },
    {
      "cell_type": "markdown",
      "metadata": {
        "id": "4554b70a-464d-46cb-86e9-210e6dc54e38"
      },
      "source": [
        "The method <code>tensor_object[#].item()</code> returns the element's value for the <code>#</code> or index of the element.\n"
      ]
    },
    {
      "cell_type": "code",
      "metadata": {
        "id": "847a9fa6-7218-4bc6-bec1-8bf1f081958a",
        "colab": {
          "base_uri": "https://localhost:8080/"
        },
        "outputId": "18a87884-f768-452e-d942-9e74f5ca8ab7"
      },
      "outputs": [
        {
          "output_type": "stream",
          "name": "stdout",
          "text": [
            "the first item is given by 573 the first tensor value is given by  tensor(573)\n",
            "the second item is given by 9324 the second tensor value is given by  tensor(9324)\n",
            "the third  item is given by 234 the third tensor value is given by  tensor(234)\n"
          ]
        }
      ],
      "source": [
        "tensor_object=torch.tensor([573, 9324, 234,324])\n",
        "\n",
        "print(\"the first item is given by\",tensor_object[0].item(),\"the first tensor value is given by \",tensor_object[0])\n",
        "print(\"the second item is given by\",tensor_object[1].item(),\"the second tensor value is given by \",tensor_object[1])\n",
        "print(\"the third  item is given by\",tensor_object[2].item(),\"the third tensor value is given by \",tensor_object[2])"
      ],
      "execution_count": 71
    },
    {
      "cell_type": "markdown",
      "source": [
        "### Tensor to List"
      ],
      "metadata": {
        "id": "fl88uoJFGN8t"
      }
    },
    {
      "cell_type": "markdown",
      "metadata": {
        "id": "a315b514-99e4-4786-b818-fe2a8ef7c9dd"
      },
      "source": [
        "<code>tensor_object.tolist()</code> converts a tensor to a list.\n"
      ]
    },
    {
      "cell_type": "code",
      "metadata": {
        "id": "81c5f9f0-eb97-43dc-adbc-3abb93d5702c",
        "colab": {
          "base_uri": "https://localhost:8080/"
        },
        "outputId": "15573a67-f6f0-4345-d943-be0cecd2344d"
      },
      "outputs": [
        {
          "output_type": "stream",
          "name": "stdout",
          "text": [
            "tensor: tensor([0, 1, 2, 3]) \n",
            "list: [0, 1, 2, 3]\n"
          ]
        }
      ],
      "source": [
        "new_list=tensor_object.tolist()\n",
        "\n",
        "print('tensor:', tensor_object,\"\\nlist:\",new_list)"
      ],
      "execution_count": 20
    },
    {
      "cell_type": "markdown",
      "metadata": {
        "id": "fdc411cd-d4c1-42e0-ba17-0378938bc6ba"
      },
      "source": [
        "<h2 id=\"Index_Slice\">Indexing</h2>\n"
      ]
    },
    {
      "cell_type": "markdown",
      "metadata": {
        "id": "812df8d5-2207-4686-a5da-448951331607"
      },
      "source": [
        "<code>tensor_object[#]</code> returns the value of the elements for the index #.\n"
      ]
    },
    {
      "cell_type": "code",
      "metadata": {
        "id": "427d888f-526f-4731-8039-5b7437a33929",
        "colab": {
          "base_uri": "https://localhost:8080/"
        },
        "outputId": "c1c59a22-bc62-48d4-8efc-d6ebc01faff1"
      },
      "outputs": [
        {
          "output_type": "stream",
          "name": "stdout",
          "text": [
            "The value on index 0: tensor(63)\n",
            "The value on index 1: tensor(234)\n",
            "The value on index 2: tensor(124)\n",
            "The value on index 3: tensor(54)\n",
            "The value on index 4: tensor(14)\n"
          ]
        }
      ],
      "source": [
        "index_tensor = torch.tensor([63, 234, 124, 54, 14])\n",
        "\n",
        "print(\"index 0:\",index_tensor[0])\n",
        "print(\"index 1:\",index_tensor[1])\n",
        "print(\"index 2:\",index_tensor[2])\n",
        "print(\"index 3:\",index_tensor[3])\n",
        "print(\"index 4:\",index_tensor[4])"
      ],
      "execution_count": 72
    },
    {
      "cell_type": "markdown",
      "metadata": {
        "id": "f7d13790-de80-4efa-a9d9-d748145b4884"
      },
      "source": [
        "<code> tensor_object[#] = new_value </code> changes the value of the element for the index #."
      ]
    },
    {
      "cell_type": "code",
      "metadata": {
        "id": "44e750bb-1e93-47eb-974f-18b341d33264",
        "colab": {
          "base_uri": "https://localhost:8080/"
        },
        "outputId": "28d6e397-420a-40d7-9201-1c9d1fb5cb88"
      },
      "outputs": [
        {
          "output_type": "stream",
          "name": "stdout",
          "text": [
            "New tensor: tensor([100, 134,  12, 353, 124])\n"
          ]
        }
      ],
      "source": [
        "tensor_object = torch.tensor([20, 134, 12, 353, 124])\n",
        "\n",
        "tensor_object[0] = 100\n",
        "\n",
        "print(\"New tensor:\", tensor_object)"
      ],
      "execution_count": 73
    },
    {
      "cell_type": "markdown",
      "source": [
        "### Slicing"
      ],
      "metadata": {
        "id": "K8dCrbtzpu4x"
      }
    },
    {
      "cell_type": "markdown",
      "metadata": {
        "id": "99923e2e-9dc4-463e-8274-8e109ba974a9"
      },
      "source": [
        "<code> tensor_object[a:b]</code> will return elements with indexes a to b\n"
      ]
    },
    {
      "cell_type": "code",
      "metadata": {
        "id": "38dce98e-0455-4198-a29c-c2bceb3c05cf",
        "colab": {
          "base_uri": "https://localhost:8080/"
        },
        "outputId": "04291219-2073-4de5-8b3f-dc1deed6043d"
      },
      "outputs": [
        {
          "output_type": "stream",
          "name": "stdout",
          "text": [
            "Original tensor sample:  tensor([100,   1,   2,   3,   4])\n",
            "The subset of tensor sample: tensor([1, 2, 3])\n"
          ]
        }
      ],
      "source": [
        "subset_tensor = tensor_object[1:4]\n",
        "\n",
        "print(\"Original tensor sample: \", tensor_object)\n",
        "print(\"The subset of tensor sample:\", subset_tensor)"
      ],
      "execution_count": 25
    },
    {
      "cell_type": "markdown",
      "metadata": {
        "id": "d41d413e-2f83-473a-bcfb-85db7f667b1f"
      },
      "source": [
        "<code> tensor_object[a:b] = torch.tensor([c,d]) </code> will set new values for elements with indexes a to b\n"
      ]
    },
    {
      "cell_type": "code",
      "metadata": {
        "id": "b8304c0f-08fb-42bc-a27a-d3de58302cef",
        "colab": {
          "base_uri": "https://localhost:8080/"
        },
        "outputId": "fa6292e7-afc7-479c-eea1-117356abe0de"
      },
      "outputs": [
        {
          "output_type": "stream",
          "name": "stdout",
          "text": [
            "Inital value on index 3 and index 4: tensor([3, 4])\n",
            "New tensor: tensor([100,   1,   2, 300, 400])\n"
          ]
        }
      ],
      "source": [
        "print(\"Inital value on index 3 and index 4:\", tensor_object[3:5])\n",
        "\n",
        "tensor_object[3:5] = torch.tensor([300.0, 400.0])\n",
        "\n",
        "print(\"New tensor:\", tensor_object)"
      ],
      "execution_count": 26
    },
    {
      "cell_type": "markdown",
      "source": [
        "# Descriptive Analytics"
      ],
      "metadata": {
        "id": "nUEQTBs_q74x"
      }
    },
    {
      "cell_type": "code",
      "metadata": {
        "id": "5eff8ba7-cf77-4302-bc66-7c4bf94b19ef",
        "colab": {
          "base_uri": "https://localhost:8080/"
        },
        "outputId": "854ecb35-78fc-46bb-9621-dbac7d074098"
      },
      "outputs": [
        {
          "output_type": "stream",
          "name": "stdout",
          "text": [
            "Tensor example:  tensor([ 1., -1.,  1., -1.])\n"
          ]
        }
      ],
      "source": [
        "tensor_object = torch.tensor([1.0, -1.0, 1, -1])\n",
        "\n",
        "print(\"Tensor example: \", tensor_object)"
      ],
      "execution_count": 29
    },
    {
      "cell_type": "markdown",
      "metadata": {
        "id": "a4c8bfc7-c7a2-4d46-a605-50a42415f03a"
      },
      "source": [
        "### Mean and Standard Deviation"
      ]
    },
    {
      "cell_type": "markdown",
      "metadata": {
        "id": "53dc5144-09e1-4d74-8184-54cbf02b322a"
      },
      "source": [
        "<code>tensor_object.mean()</code> returns the mean\n"
      ]
    },
    {
      "cell_type": "code",
      "metadata": {
        "id": "24771d23-c0fd-4518-b3a5-6888991eff3a",
        "colab": {
          "base_uri": "https://localhost:8080/"
        },
        "outputId": "06e59d2e-20e2-40b7-a6e6-bc7b4333ba11"
      },
      "outputs": [
        {
          "output_type": "stream",
          "name": "stdout",
          "text": [
            "The mean of tensor_object:  tensor(0.)\n"
          ]
        }
      ],
      "source": [
        "mean = tensor_object.mean()\n",
        "\n",
        "print(\"The mean of tensor_object: \", mean)"
      ],
      "execution_count": 30
    },
    {
      "cell_type": "markdown",
      "metadata": {
        "id": "6d87a8a3-146e-414a-9bcd-5eb982d612c8"
      },
      "source": [
        "<code>tensor_obj.std()</code> calculates the standard deviation\n"
      ]
    },
    {
      "cell_type": "code",
      "metadata": {
        "id": "da637aae-e9e5-473e-9db5-6294a63d9e8e",
        "colab": {
          "base_uri": "https://localhost:8080/"
        },
        "outputId": "62a470c1-05ad-4d40-ba98-e8331d3ad8d9"
      },
      "outputs": [
        {
          "output_type": "stream",
          "name": "stdout",
          "text": [
            "The standard deviation of math_tensor:  tensor(1.1547)\n"
          ]
        }
      ],
      "source": [
        "#Calculate the standard deviation for math_tensor\n",
        "\n",
        "standard_deviation = tensor_object.std()\n",
        "\n",
        "print(\"The standard deviation of math_tensor: \", standard_deviation)"
      ],
      "execution_count": 31
    },
    {
      "cell_type": "markdown",
      "metadata": {
        "id": "82920461-0404-433c-9048-0123f652d3b2"
      },
      "source": [
        "### Max and Min\n"
      ]
    },
    {
      "cell_type": "code",
      "metadata": {
        "id": "024b2399-c370-424f-9e52-e9716e77bcc9",
        "colab": {
          "base_uri": "https://localhost:8080/"
        },
        "outputId": "8c71414c-f50d-4ebc-c900-393353ae1e86"
      },
      "outputs": [
        {
          "output_type": "stream",
          "name": "stdout",
          "text": [
            "Tensor example:  tensor([1, 1, 3, 5, 5])\n"
          ]
        }
      ],
      "source": [
        "tensor_object = torch.tensor([1, 1, 3, 5, 5])\n",
        "\n",
        "print(\"Tensor example: \", tensor_object)"
      ],
      "execution_count": 32
    },
    {
      "cell_type": "markdown",
      "metadata": {
        "id": "13ff51bd-a963-4621-9234-8a8e96cd4058"
      },
      "source": [
        "<code>tensor_object.max()</code> and <code>tensor_object.min()</code>\n"
      ]
    },
    {
      "cell_type": "code",
      "metadata": {
        "id": "52b66d42-8c27-4e01-95a2-7ffb8fc7e991",
        "colab": {
          "base_uri": "https://localhost:8080/"
        },
        "outputId": "0369037c-6bb2-4e05-c76a-3411a0481b8e"
      },
      "outputs": [
        {
          "output_type": "stream",
          "name": "stdout",
          "text": [
            "tensor(5) tensor(1)\n"
          ]
        }
      ],
      "source": [
        "print(tensor_object.max(), tensor_object.min())"
      ],
      "execution_count": 33
    },
    {
      "cell_type": "markdown",
      "source": [
        "# Tensor Functions"
      ],
      "metadata": {
        "id": "XKR_PEVsrLsL"
      }
    },
    {
      "cell_type": "markdown",
      "metadata": {
        "id": "b75d70d3-7784-4536-ab4e-89cdf2c592ce"
      },
      "source": [
        "### Trig Functions\n"
      ]
    },
    {
      "cell_type": "markdown",
      "source": [
        "\n",
        "https://www.mathsisfun.com/sine-cosine-tangent.html"
      ],
      "metadata": {
        "id": "_Se2c8etnOZ9"
      }
    },
    {
      "cell_type": "markdown",
      "metadata": {
        "id": "6f8412e0-d2d5-43eb-8c3d-afd22002b30c"
      },
      "source": [
        "<code>torch.sin()</code>\n"
      ]
    },
    {
      "cell_type": "code",
      "metadata": {
        "id": "dd0911cb-976c-424b-a985-094d73b60500",
        "colab": {
          "base_uri": "https://localhost:8080/"
        },
        "outputId": "6152febb-cad6-478e-9066-d7a760379304"
      },
      "outputs": [
        {
          "output_type": "stream",
          "name": "stdout",
          "text": [
            "The sin result of pi_tensor:  tensor([ 0.0000e+00,  1.0000e+00, -8.7423e-08])\n"
          ]
        }
      ],
      "source": [
        "# Method for calculating the sin result of each element in the tensor\n",
        "\n",
        "pi_tensor = torch.tensor([0, np.pi/2, np.pi])\n",
        "sin = torch.sin(pi_tensor)\n",
        "print(\"The sin result of pi_tensor: \", sin)"
      ],
      "execution_count": 34
    },
    {
      "cell_type": "markdown",
      "metadata": {
        "id": "54d978b4-23f2-404f-bfa6-f999bcb1c4b4"
      },
      "source": [
        "Notice that <code><i>tensor_obj</i>.mean()</code>, <code><i>tensor_obj</i>.std()</code>, <code><i>tensor_obj</i>.max()</code>, and <code><i>tensor_obj</i>.min()</code> are formatted <code>tensor_obj.()</code>, whereas <code>torch.trig(tensor_obj)</code> is formatted <code>torch.(tensor_obj)</code>.\n"
      ]
    },
    {
      "cell_type": "markdown",
      "metadata": {
        "id": "e568c85f-0d9d-45b3-adf0-3933ebef666e"
      },
      "source": [
        "### Create Tensor with <code>torch.linspace()</code>\n"
      ]
    },
    {
      "cell_type": "markdown",
      "metadata": {
        "id": "b102a861-48d1-4a37-9525-2021d2b5a954"
      },
      "source": [
        "<code>torch.linspace()</code> returns evenly spaced numbers over a specified interval <code>start</code> to <code>end</code> with <code>steps</code> being the size of the new tensor.\n",
        "\n",
        "Optional arguments may be found here: https://pytorch.org/docs/stable/generated/torch.linspace.html\n"
      ]
    },
    {
      "cell_type": "markdown",
      "source": [
        "<code> torch.linspace(start, end, steps, *, out=None, dtype=None, layout=torch.strided, device=None, requires_grad=False) </code>"
      ],
      "metadata": {
        "id": "dTjkv9Vjp9q0"
      }
    },
    {
      "cell_type": "code",
      "metadata": {
        "id": "ded5f9af-0170-4c00-b1ee-58059e5be6d4",
        "colab": {
          "base_uri": "https://localhost:8080/"
        },
        "outputId": "2c7f0518-6b39-4906-e0bd-f345c3f028bc"
      },
      "outputs": [
        {
          "output_type": "stream",
          "name": "stdout",
          "text": [
            "First Try on linspace tensor([-2., -1.,  0.,  1.,  2.])\n"
          ]
        }
      ],
      "source": [
        "len_5_tensor = torch.linspace(-2, 2, steps = 5)\n",
        "print (\"First Try on linspace\", len_5_tensor)"
      ],
      "execution_count": 35
    },
    {
      "cell_type": "code",
      "metadata": {
        "id": "0b75e2e6-fa8b-4269-afda-29b09ae40739",
        "colab": {
          "base_uri": "https://localhost:8080/"
        },
        "outputId": "a223d1b7-9b2a-4a4d-ab5d-3a531d989956"
      },
      "outputs": [
        {
          "output_type": "stream",
          "name": "stdout",
          "text": [
            "Second Try on linspace tensor([-2.0000, -1.5000, -1.0000, -0.5000,  0.0000,  0.5000,  1.0000,  1.5000,\n",
            "         2.0000])\n"
          ]
        }
      ],
      "source": [
        "len_9_tensor = torch.linspace(-2, 2, steps = 9)\n",
        "print (\"Second Try on linspace\", len_9_tensor)"
      ],
      "execution_count": 36
    },
    {
      "cell_type": "markdown",
      "metadata": {
        "id": "d0ffdfef-bf4a-43e6-9c49-36439b0adc45"
      },
      "source": [
        "<code>torch.linspace()</code> and <code>torch.sin()</code> may be used together to calculate constructs a tensor that contains the 100 sin result in range from 0 (0 degree) to 2π (360 degree):\n"
      ]
    },
    {
      "cell_type": "code",
      "metadata": {
        "id": "961ade33-0f09-4419-92f9-59f7b2ed341d"
      },
      "outputs": [],
      "source": [
        "# Construct the tensor within 0 to 360 degree\n",
        "\n",
        "pi_tensor = torch.linspace(0, 2*np.pi, 100)\n",
        "sin_result = torch.sin(pi_tensor)"
      ],
      "execution_count": 37
    },
    {
      "cell_type": "code",
      "metadata": {
        "id": "3a87a84a-5b15-4266-82bc-cb2f93fbbdc5",
        "colab": {
          "base_uri": "https://localhost:8080/",
          "height": 447
        },
        "outputId": "ebd9ae06-e805-484d-8c6a-1942cb4858c8"
      },
      "outputs": [
        {
          "output_type": "execute_result",
          "data": {
            "text/plain": [
              "[<matplotlib.lines.Line2D at 0x7c07e4d12530>]"
            ]
          },
          "metadata": {},
          "execution_count": 39
        },
        {
          "output_type": "display_data",
          "data": {
            "text/plain": [
              "<Figure size 640x480 with 1 Axes>"
            ],
            "image/png": "[encoded data removed]"
          },
          "metadata": {}
        }
      ],
      "source": [
        "plt.plot(pi_tensor.numpy(), sin_result.numpy())"
      ],
      "execution_count": 39
    },
    {
      "cell_type": "markdown",
      "source": [
        "# Tensor Operations"
      ],
      "metadata": {
        "id": "C3QIa_P45Nft"
      }
    },
    {
      "cell_type": "markdown",
      "metadata": {
        "id": "7f5e97dd-095c-4e34-a11c-f245ece53cd5"
      },
      "source": [
        "## Tensor Addition\n"
      ]
    },
    {
      "cell_type": "code",
      "metadata": {
        "id": "5cbe16b6-3a3f-4aa2-aef1-25116151a525"
      },
      "outputs": [],
      "source": [
        "u = torch.tensor([1, 0])\n",
        "v = torch.tensor([0, 1])"
      ],
      "execution_count": 40
    },
    {
      "cell_type": "code",
      "metadata": {
        "id": "6131110e-b012-462b-af73-5f365f86d42f",
        "colab": {
          "base_uri": "https://localhost:8080/"
        },
        "outputId": "e8c65f2b-32ad-42f7-8b0b-b3a990a12fc8"
      },
      "outputs": [
        {
          "output_type": "stream",
          "name": "stdout",
          "text": [
            "The result tensor:  tensor([1, 1])\n"
          ]
        }
      ],
      "source": [
        "w = u + v\n",
        "print(\"The result tensor: \", w)"
      ],
      "execution_count": 41
    },
    {
      "cell_type": "code",
      "metadata": {
        "id": "11ffbbd7-f0ed-4e36-a9f4-21407d606f36",
        "colab": {
          "base_uri": "https://localhost:8080/",
          "height": 435
        },
        "outputId": "03c45946-bf09-471f-ac43-4820a4e122ae"
      },
      "outputs": [
        {
          "output_type": "display_data",
          "data": {
            "text/plain": [
              "<Figure size 640x480 with 1 Axes>"
            ],
            "image/png": "[encoded data removed]"
          },
          "metadata": {}
        }
      ],
      "source": [
        "plotVec([\n",
        "    {\"vector\": u.numpy(), \"name\": 'u', \"color\": 'r'},\n",
        "    {\"vector\": v.numpy(), \"name\": 'v', \"color\": 'b'},\n",
        "    {\"vector\": w.numpy(), \"name\": 'w', \"color\": 'g'}\n",
        "])"
      ],
      "execution_count": 44
    },
    {
      "cell_type": "markdown",
      "metadata": {
        "id": "9444ac3d-6b1b-4a26-8180-ee8d72885f54"
      },
      "source": [
        "Tensors with different data types causes errors\n"
      ]
    },
    {
      "cell_type": "code",
      "metadata": {
        "id": "dbad52b6-7716-4aa4-8974-6bcef2bcc61e",
        "colab": {
          "base_uri": "https://localhost:8080/"
        },
        "outputId": "81587030-a901-4f6e-d293-27faadf02476"
      },
      "outputs": [
        {
          "output_type": "execute_result",
          "data": {
            "text/plain": [
              "tensor([2., 4., 6.], dtype=torch.float64)"
            ]
          },
          "metadata": {},
          "execution_count": 46
        }
      ],
      "source": [
        "torch.tensor([1,2,3],dtype=torch.int64)+torch.tensor([1,2,3],dtype=torch.float64)"
      ],
      "execution_count": 46
    },
    {
      "cell_type": "markdown",
      "metadata": {
        "id": "3639af83-8646-4e66-8472-76a588fb4530"
      },
      "source": [
        "### Adding a Scalar\n"
      ]
    },
    {
      "cell_type": "code",
      "metadata": {
        "id": "537508ef-fd65-42ee-92b1-dc2577776f83",
        "colab": {
          "base_uri": "https://localhost:8080/"
        },
        "outputId": "7fae0320-92b4-40b9-a8f0-1d16c85a73d7"
      },
      "outputs": [
        {
          "output_type": "stream",
          "name": "stdout",
          "text": [
            "Addition Result:  tensor([2, 3, 4, 0])\n"
          ]
        }
      ],
      "source": [
        "u = torch.tensor([1, 2, 3, -1])\n",
        "v = u + 1\n",
        "print (\"Addition Result: \", v)"
      ],
      "execution_count": 47
    },
    {
      "cell_type": "markdown",
      "metadata": {
        "id": "586eb1fe-87de-4e1e-8870-d9290524e963"
      },
      "source": [
        "## Tensor Multiplication\n"
      ]
    },
    {
      "cell_type": "markdown",
      "metadata": {
        "id": "50472989-a687-4dc3-a5da-34aad9ab2812"
      },
      "source": [
        "### Tensor and Scalar\n"
      ]
    },
    {
      "cell_type": "markdown",
      "source": [
        "The scalar multiplies each element."
      ],
      "metadata": {
        "id": "kCNq0z-N7zmF"
      }
    },
    {
      "cell_type": "code",
      "metadata": {
        "id": "2bb88e1e-f3ab-4d51-9609-a4ed67ff20dd",
        "colab": {
          "base_uri": "https://localhost:8080/"
        },
        "outputId": "339b74e5-e4bf-455e-b5b5-94770a1a2780"
      },
      "outputs": [
        {
          "output_type": "stream",
          "name": "stdout",
          "text": [
            "The result of 2 * u:  tensor([2, 4])\n"
          ]
        }
      ],
      "source": [
        "# tensor * scalar\n",
        "\n",
        "u = torch.tensor([1, 2])\n",
        "v = 2 * u\n",
        "print(\"The result of 2 * u: \", v)"
      ],
      "execution_count": 48
    },
    {
      "cell_type": "markdown",
      "metadata": {
        "id": "b17e7c8d-c69f-47a5-8a3f-9fafca6a3762"
      },
      "source": [
        "### Multiplying Tensors"
      ]
    },
    {
      "cell_type": "code",
      "metadata": {
        "id": "cda4103b-a41c-4d67-be81-88d0926a6e83",
        "colab": {
          "base_uri": "https://localhost:8080/"
        },
        "outputId": "6790a554-8cab-41ce-af01-3011e1cad35b"
      },
      "outputs": [
        {
          "output_type": "stream",
          "name": "stdout",
          "text": [
            "The result of u * v tensor([3, 4])\n"
          ]
        }
      ],
      "source": [
        "# tensor * tensor\n",
        "\n",
        "u = torch.tensor([1, 2])\n",
        "v = torch.tensor([3, 2])\n",
        "w = u * v\n",
        "print (\"The result of u * v\", w)"
      ],
      "execution_count": 49
    },
    {
      "cell_type": "markdown",
      "metadata": {
        "id": "10db004a-d37a-4f51-855d-504afbc4cca5"
      },
      "source": [
        "Each element in <code>u</code> is multiplied by the corresponding element in  <code>v</code>.\n"
      ]
    },
    {
      "cell_type": "markdown",
      "metadata": {
        "id": "c838aebb-1065-432d-ac42-a2009b45e261"
      },
      "source": [
        "### Dot Product\n"
      ]
    },
    {
      "cell_type": "markdown",
      "metadata": {
        "id": "0f29fe35-94a9-46b3-bdbe-b26fc59cf7a6"
      },
      "source": [
        "<code>torch.dot(a,b)</code> returns the dot product.\n"
      ]
    },
    {
      "cell_type": "code",
      "metadata": {
        "id": "0e1ceabe-87c1-4535-be41-f1422790cf70",
        "colab": {
          "base_uri": "https://localhost:8080/"
        },
        "outputId": "231d075d-fb18-42c0-e2ce-d557527bc975"
      },
      "outputs": [
        {
          "output_type": "stream",
          "name": "stdout",
          "text": [
            "Dot Product of u, v: tensor(7)\n"
          ]
        }
      ],
      "source": [
        "u = torch.tensor([1, 2])\n",
        "v = torch.tensor([3, 2])\n",
        "\n",
        "print(\"Dot Product of u, v:\", torch.dot(u,v))"
      ],
      "execution_count": 50
    },
    {
      "cell_type": "markdown",
      "metadata": {
        "id": "f6a0e60d-2a02-4cbc-9209-78d5857b8238"
      },
      "source": [
        "The function is <i>1 x 3 + 2 x 2 = 7</i>.\n"
      ]
    }
  ],
  "metadata": {
    "kernelspec": {
      "display_name": "Python",
      "language": "python",
      "name": "conda-env-python-py"
    },
    "language_info": {
      "name": ""
    },
    "colab": {
      "provenance": [],
      "toc_visible": true,
      "include_colab_link": true
    }
  },
  "nbformat": 4,
  "nbformat_minor": 0
}