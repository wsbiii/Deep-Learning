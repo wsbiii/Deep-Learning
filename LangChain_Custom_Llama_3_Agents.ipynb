{
  "nbformat": 4,
  "nbformat_minor": 0,
  "metadata": {
    "colab": {
      "provenance": [],
      "authorship_tag": "ABX9TyPE6sgj9S0wCT02zuEeLu1d",
      "include_colab_link": true
    },
    "kernelspec": {
      "name": "python3",
      "display_name": "Python 3"
    },
    "language_info": {
      "name": "python"
    }
  },
  "cells": [
    {
      "cell_type": "markdown",
      "metadata": {
        "id": "view-in-github",
        "colab_type": "text"
      },
      "source": [
        "<a href=\"https://colab.research.google.com/github/wsbiii/Deep-Learning/blob/main/LangChain_Custom_Llama_3_Agents.ipynb\" target=\"_parent\"><img src=\"https://colab.research.google.com/assets/colab-badge.svg\" alt=\"Open In Colab\"/></a>"
      ]
    },
    {
      "cell_type": "markdown",
      "source": [
        "<h1>Building Open Source LLM Agents with Llama 3 </h1>"
      ],
      "metadata": {
        "id": "u23Y6OtfwlI2"
      }
    },
    {
      "cell_type": "markdown",
      "source": [
        "# Objective"
      ],
      "metadata": {
        "id": "uZg9vH0L514A"
      }
    },
    {
      "cell_type": "markdown",
      "source": [
        "- To build a Llama 3 agent with LangGraph"
      ],
      "metadata": {
        "id": "DL5DOUP2Eyaa"
      }
    },
    {
      "cell_type": "code",
      "source": [
        "import os"
      ],
      "metadata": {
        "id": "Poj0hSNJuYlC"
      },
      "execution_count": null,
      "outputs": []
    },
    {
      "cell_type": "code",
      "source": [
        "os.environ['TAVILY_API_KEY']='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'\n",
        "os.environ['GROQ_API_KEY']='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'\n"
      ],
      "metadata": {
        "id": "hEIBmjGv4E0v"
      },
      "execution_count": null,
      "outputs": []
    },
    {
      "cell_type": "code",
      "source": [
        "# Add tracing [OPTIONAL]\n",
        "os.environ[\"LANGCHAIN_TRACING_V2\"] = \"true\"\n",
        "os.environ[\"LANGCHAIN_ENDPOINT\"] = \"https://api.smith.langchain.com\"\n",
        "os.environ[\"LANGCHAIN_API_KEY\"] = \"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\""
      ],
      "metadata": {
        "id": "1Jf_sKEA2eU0"
      },
      "execution_count": null,
      "outputs": []
    },
    {
      "cell_type": "code",
      "source": [
        "os.environ[\"LANGCHAIN_PROJECT\"]= \"llama-tool-use-agent\""
      ],
      "metadata": {
        "id": "iOmvkAi524yM"
      },
      "execution_count": null,
      "outputs": []
    },
    {
      "cell_type": "code",
      "source": [
        "import langchain_community\n",
        "import langchain"
      ],
      "metadata": {
        "id": "1_nxGFp0uqzg"
      },
      "execution_count": null,
      "outputs": []
    },
    {
      "cell_type": "markdown",
      "source": [
        "# Connects Tools to LLM"
      ],
      "metadata": {
        "id": "JXYtL2bH1AsW"
      }
    },
    {
      "cell_type": "markdown",
      "source": [
        "## Create the Tools"
      ],
      "metadata": {
        "id": "7ZuH4taftFCz"
      }
    },
    {
      "cell_type": "code",
      "source": [
        "from langchain_core.tools import tool\n",
        "from langgraph.prebuilt import ToolNode\n",
        "from langchain_community.tools.tavily_search import TavilySearchResults\n",
        "import replicate\n",
        "\n",
        "@tool\n",
        "def magic_function(input: int) -> int:\n",
        "  \"\"\"Applies a magic function to an input\"\"\"\n",
        "  return input + 2\n",
        "\n",
        "@tool\n",
        "def web_search(input: str) -> str:\n",
        "  \"\"\"Searches the web for a query\"\"\"\n",
        "  web_search_tool = TavilySearchResults()\n",
        "  docs = web_search_tool.invoke({\"query\": input})\n",
        "  return docs\n",
        "\n",
        "os.environ[\"REPLICATE_API_TOKEN\"] = \"r8_Pn40p5uXyMuwbKlGMlAc61kmX3TZZ9s4VALwY\"\n",
        "\n",
        "@tool\n",
        "def text2image(text: str) -> str:\n",
        "    \"\"\"Generates an image from a text prompt\"\"\"\n",
        "    output = replicate.run(\n",
        "        \"lucataco/open-dalle-v1.1:1c7d4c8dec39c7306df7794b28419078cb9d18b9213ab1c21fdc46a1deca0144\",\n",
        "        input={\n",
        "            \"width\": 1024,\n",
        "            \"height\": 1024,\n",
        "            \"prompt\": text, #\"a yellow lab puppy running free with wild flowers in the mountain behind\"\n",
        "            \"scheduler\": \"KarrasDPM\",\n",
        "            \"num_outputs\": 1,\n",
        "            \"guidance_scale\": 7.5,\n",
        "            \"apply_watermark\": True,\n",
        "            \"negative_prompt\": \"worst quality, low quality\",\n",
        "            \"prompt_strength\": 0.8,\n",
        "            \"num_inference_steps\": 60\n",
        "        }\n",
        "    )\n",
        "    print(output)\n",
        "    return output[0]\n",
        "# lucataco/open-dalle-v1.1:1c7d4c8dec39c7306df7794b28419078cb9d18b9213ab1c21fdc46a1deca0144\n",
        "# stability-ai/sdxl:39ed52f2a78e934b3ba6e2a89f5b1c712de7dfea535525255b1aa35c5565e08b\n",
        "@tool\n",
        "def image2text(image_url: str, prompt: str) -> str:\n",
        "    \"\"\"Generates a text description of an image\"\"\"\n",
        "    input = {\n",
        "        \"image\": image_url,\n",
        "        \"prompt\": prompt\n",
        "    }\n",
        "\n",
        "    output = replicate.run(\n",
        "        \"yorickvp/llava-13b:b5f6212d032508382d61ff00469ddda3e32fd8a0e75dc39d8a4191bb742157fb\",\n",
        "        input=input\n",
        "    )\n",
        "\n",
        "    return \"\".join(output)\n",
        "\n",
        "@tool\n",
        "def text2speech(text: str) -> int:\n",
        "    \"\"\"Generates speech from a text prompt\"\"\"\n",
        "    output = replicate.run(\n",
        "        \"cjwbw/seamless_communication:668a4fec05a887143e5fe8d45df25ec4c794dd43169b9a11562309b2d45873b0\",\n",
        "        input={\n",
        "            \"task_name\": \"T2ST (Text to Speech translation)\",\n",
        "            \"input_text\": text,\n",
        "            \"input_text_language\": \"English\",\n",
        "            \"max_input_audio_length\": 60,\n",
        "            \"target_language_text_only\": \"English\",\n",
        "            \"target_language_with_speech\": \"English\"\n",
        "        }\n",
        "    )\n",
        "    return output['audio_output']\n",
        "\n",
        "tools = [magic_function,\n",
        "         web_search,\n",
        "         text2image,\n",
        "         image2text,\n",
        "         text2speech]\n",
        "\n",
        "print(magic_function)\n",
        "magic_function.args_schema"
      ],
      "metadata": {
        "colab": {
          "base_uri": "https://localhost:8080/",
          "height": 159
        },
        "id": "XF_cZw1HuzRH",
        "outputId": "3081f309-35fb-4099-b836-1418722a91e7"
      },
      "execution_count": null,
      "outputs": [
        {
          "output_type": "stream",
          "name": "stdout",
          "text": [
            "name='magic_function' description='Applies a magic function to an input' args_schema=<class 'pydantic.v1.main.magic_functionSchema'> func=<function magic_function at 0x7ce964dcb370>\n"
          ]
        },
        {
          "output_type": "execute_result",
          "data": {
            "text/plain": [
              "pydantic.v1.main.magic_functionSchema"
            ],
            "text/html": [
              "<div style=\"max-width:800px; border: 1px solid var(--colab-border-color);\"><style>\n",
              "      pre.function-repr-contents {\n",
              "        overflow-x: auto;\n",
              "        padding: 8px 12px;\n",
              "        max-height: 500px;\n",
              "      }\n",
              "\n",
              "      pre.function-repr-contents.function-repr-contents-collapsed {\n",
              "        cursor: pointer;\n",
              "        max-height: 100px;\n",
              "      }\n",
              "    </style>\n",
              "    <pre style=\"white-space: initial; background:\n",
              "         var(--colab-secondary-surface-color); padding: 8px 12px;\n",
              "         border-bottom: 1px solid var(--colab-border-color);\"><b>pydantic.v1.main.magic_functionSchema</b><br/>def __init__(__pydantic_self__, **data: Any) -&gt; None</pre><pre class=\"function-repr-contents function-repr-contents-collapsed\" style=\"\"><a class=\"filepath\" style=\"display:none\" href=\"#\">/usr/local/lib/python3.10/dist-packages/pydantic/v1/main.py</a>Applies a magic function to an input</pre>\n",
              "      <script>\n",
              "      if (google.colab.kernel.accessAllowed && google.colab.files && google.colab.files.view) {\n",
              "        for (const element of document.querySelectorAll('.filepath')) {\n",
              "          element.style.display = 'block'\n",
              "          element.onclick = (event) => {\n",
              "            event.preventDefault();\n",
              "            event.stopPropagation();\n",
              "            google.colab.files.view(element.textContent, None);\n",
              "          };\n",
              "        }\n",
              "      }\n",
              "      for (const element of document.querySelectorAll('.function-repr-contents')) {\n",
              "        element.onclick = (event) => {\n",
              "          event.preventDefault();\n",
              "          event.stopPropagation();\n",
              "          element.classList.toggle('function-repr-contents-collapsed');\n",
              "        };\n",
              "      }\n",
              "      </script>\n",
              "      </div>"
            ]
          },
          "metadata": {},
          "execution_count": 6
        }
      ]
    },
    {
      "cell_type": "markdown",
      "source": [
        "## Create the Response"
      ],
      "metadata": {
        "id": "5jJHXx68tKuX"
      }
    },
    {
      "cell_type": "code",
      "source": [
        "from datetime import datetime\n",
        "from langchain_groq import ChatGroq\n",
        "from langchain_core.prompts import ChatPromptTemplate\n",
        "\n",
        "# Prompt\n",
        "primary_assistant_prompt = ChatPromptTemplate.from_messages(\n",
        "    [\n",
        "        (\"system\",\n",
        "         \"You are a helpful assistant with two tools: (1) web search,\"\n",
        "         \"(2) a custom, magic_function. Use web search for current events and use \"\n",
        "         \"magic_function if the question directly asks for it. Otherwise, answer directly.\"\n",
        "         \"Current time: {time}\"),\n",
        "        (\"placeholder\", \"{messages}\"),\n",
        "    ]\n",
        ").partial(time=datetime.now())\n",
        "\n",
        "# LLM chain\n",
        "llm = ChatGroq(temperature=0, model=\"llama3-70b-8192\")\n",
        "assistant_runnable = primary_assistant_prompt | llm.bind_tools(tools)"
      ],
      "metadata": {
        "collapsed": true,
        "id": "eO-ek1BX1KLZ"
      },
      "execution_count": null,
      "outputs": []
    },
    {
      "cell_type": "markdown",
      "source": [
        "# Test Tools"
      ],
      "metadata": {
        "id": "T8TUZhB9spGY"
      }
    },
    {
      "cell_type": "code",
      "source": [
        "question = \"What is magic_function(3)\"\n",
        "payload = assistant_runnable.invoke({\"messages\": [(\"user\", question)]})\n",
        "payload.tool_calls"
      ],
      "metadata": {
        "colab": {
          "base_uri": "https://localhost:8080/"
        },
        "id": "tBqNKrof37p8",
        "outputId": "d7755470-cb65-443b-ed47-2d486e0cb868"
      },
      "execution_count": null,
      "outputs": [
        {
          "output_type": "execute_result",
          "data": {
            "text/plain": [
              "[{'name': 'magic_function',\n",
              "  'args': {'input': 3},\n",
              "  'id': 'call_dqdv',\n",
              "  'type': 'tool_call'}]"
            ]
          },
          "metadata": {},
          "execution_count": 8
        }
      ]
    },
    {
      "cell_type": "code",
      "source": [
        "question = \"What is the capitol of the USA?\"\n",
        "payload = assistant_runnable.invoke({\"messages\": [(\"user\", question)]})\n",
        "payload.tool_calls"
      ],
      "metadata": {
        "colab": {
          "base_uri": "https://localhost:8080/"
        },
        "id": "Bi3hvuiJ0ZT0",
        "outputId": "95aba232-1775-4397-e109-dd9919ba49ec"
      },
      "execution_count": null,
      "outputs": [
        {
          "output_type": "execute_result",
          "data": {
            "text/plain": [
              "[]"
            ]
          },
          "metadata": {},
          "execution_count": 9
        }
      ]
    },
    {
      "cell_type": "markdown",
      "source": [
        "The tools have successfully connected but the agent has not been built nor connected to the LLM chain."
      ],
      "metadata": {
        "id": "Vsitnemtt2hB"
      }
    },
    {
      "cell_type": "markdown",
      "source": [
        "## Build the Agent"
      ],
      "metadata": {
        "id": "1Ws1pGKrttXI"
      }
    },
    {
      "cell_type": "code",
      "source": [
        "from typing import Annotated\n",
        "from typing_extensions import TypedDict\n",
        "from langgraph.graph.message import AnyMessage, add_messages\n",
        "\n",
        "class State(TypedDict):\n",
        "    messages: Annotated[list[AnyMessage], add_messages]"
      ],
      "metadata": {
        "id": "6IU4d5sc4jls"
      },
      "execution_count": null,
      "outputs": []
    },
    {
      "cell_type": "code",
      "source": [
        "from re import S\n",
        "from datetime import datetime\n",
        "from langchain_groq import ChatGroq\n",
        "from langchain_core.prompts import ChatPromptTemplate\n",
        "\n",
        "from langchain_community.tools.tavily_search import TavilySearchResults\n",
        "from langchain_core.prompts import ChatPromptTemplate\n",
        "from langchain_core.runnables import Runnable, RunnableConfig\n",
        "\n",
        "# class Assistant: is wrapping assistant _runnable from the LLM chain\n",
        "class Assistant:\n",
        "\n",
        "  def __init__(self, runnable: Runnable):\n",
        "    self.runnable = runnable\n",
        "\n",
        "  def __call__(self, state: State, config: RunnableConfig):\n",
        "    while True:\n",
        "      # invokes the tool-calling LLM\n",
        "      result = self.runnable.invoke(state)\n",
        "      # if there is a tool call = valid response\n",
        "      # Response with meaningful text = valid response\n",
        "      # Else reprompt because not useful\n",
        "      if not result.tool_calls and (\n",
        "          not result.content\n",
        "          or isinstance(result.content, list)\n",
        "          and not result.content[0].get(\"text\")\n",
        "      ):  # Then we retry\n",
        "          messages = state[\"messages\"] + [(\"user\", \"Respond with a real output.\")]\n",
        "          state = {**state, \"messages\": messages}\n",
        "      else:\n",
        "          break\n",
        "    return {\"messages\": result}\n",
        "\n",
        "# Tool\n",
        "# tool node invokes the tool\n",
        "def create_tool_node_with_fallback(tools: list) -> dict:\n",
        "  return ToolNode(tools).with_fallbacks(\n",
        "      [RunnableLambda(handle_tool_error)], exception_key = \"error\"\n",
        "  )\n",
        "\n",
        "# Utilities\n",
        "\n",
        "def _print_event(event: dict, _printed: set, max_length=1500):\n",
        "  current_state = event.get(\"dialog_state\")\n",
        "  if current_state:\n",
        "    print(f\"Currently in:\", current_state[-1])\n",
        "  message = event.get(\"messages\")\n",
        "  if message:\n",
        "    if isinstance(message, list):\n",
        "      message = message[-1]\n",
        "    if message.id not in _printed:\n",
        "        msg_repr = message.pretty_repr(html=True)\n",
        "        if len(msg_repr) > max_length:\n",
        "            msg_repr = msg_repr[:max_length] + \"... (truncated)\"\n",
        "        print(msg_repr)\n",
        "        _printed.add(message.id)\n",
        "\n",
        "\n",
        "def handle_tool_error(state) -> dict:\n",
        "  error = state.get(\"error\")\n",
        "  tool_calls = state[\"messages\"][-1].tool_calls\n",
        "  return {\n",
        "      \"messages\": [\n",
        "          mboxMessage(\n",
        "              content=f\"Error: {repr(error)}\\n please fix your mistakes.\",\n",
        "              tool_call_id=tc[\"id\"],\n",
        "          )\n",
        "          for tc in tool_calls\n",
        "      ]\n",
        "  }\n",
        "\n",
        "\n",
        "from langgraph.checkpoint.sqlite import SqliteSaver\n",
        "from langgraph.graph import END, StateGraph\n",
        "from langgraph.prebuilt import ToolNode, tools_condition\n",
        "from langchain_core.runnables import RunnableLambda\n",
        "\n",
        "#Graph\n",
        "builder = StateGraph(State)\n",
        "\n",
        "#Define the nodes\n",
        "builder.add_node(\"assistant\", Assistant(assistant_runnable))\n",
        "builder.add_node(\"tools\", create_tool_node_with_fallback(tools))\n",
        "\n",
        "#Define the Edges\n",
        "builder.set_entry_point(\"assistant\")\n",
        "builder.add_conditional_edges(\n",
        "    \"assistant\",\n",
        "    tools_condition,\n",
        "    {\"tools\": \"tools\", END: END},\n",
        ")\n",
        "builder.add_edge(\"tools\",\"assistant\")\n",
        "\n",
        "memory = SqliteSaver.from_conn_string(\":memory:\")\n",
        "with memory as memory_saver: # Use a context manager to access the SqliteSaver object\n",
        "    graph = builder.compile(checkpointer=memory_saver) # Pass the SqliteSaver object to compile\n",
        "\n",
        "from IPython.display import Image, display\n",
        "\n",
        "try:\n",
        "  display(Image(graph.get_graph(xray=True).draw_mermaid_png()))\n",
        "except:\n",
        "  pass\n",
        "\n",
        "\n"
      ],
      "metadata": {
        "colab": {
          "base_uri": "https://localhost:8080/",
          "height": 236
        },
        "id": "1sVbph2I77zP",
        "outputId": "2bff5d3a-5a15-4ab0-ff49-5b8564cc476f"
      },
      "execution_count": null,
      "outputs": [
        {
          "output_type": "display_data",
          "data": {
            "image/jpeg": "[encoded data removed]",
            "text/plain": [
              "<IPython.core.display.Image object>"
            ]
          },
          "metadata": {}
        }
      ]
    },
    {
      "cell_type": "markdown",
      "source": [
        "# Testing"
      ],
      "metadata": {
        "id": "tLndAAaysVqt"
      }
    },
    {
      "cell_type": "code",
      "source": [
        "questions = [\"What is magic_function(3)\",\n",
        "             \"What is the weather in San Diego now?\",\n",
        "             \"Generate an image based upon this text: 'a yellow lab puppy running free with wild flowers in the monutain behind'\",\n",
        "             ]\n",
        "import uuid\n",
        "_printed = set()\n",
        "thread_id = str(uuid.uuid4())\n",
        "\n",
        "config = {\n",
        "    \"configurable\": {\n",
        "        \"thread_id\": thread_id, # Checkpoints are accessed by thread_id\n",
        "    }\n",
        "}\n",
        "\n",
        "events = graph.stream(\n",
        "    {\"messages\": (\"user\", questions[1])}, config, stream_mode =\"values\"\n",
        ")\n",
        "for event in events:\n",
        "  _print_event(event, _printed)\n"
      ],
      "metadata": {
        "colab": {
          "base_uri": "https://localhost:8080/"
        },
        "collapsed": true,
        "id": "54A680RgsFST",
        "outputId": "dd0999f0-9a46-458d-f02b-da4c5aac8c2a"
      },
      "execution_count": null,
      "outputs": [
        {
          "output_type": "stream",
          "name": "stdout",
          "text": [
            "================================\u001b[1m Human Message \u001b[0m=================================\n",
            "\n",
            "What is the weather in San Diego now?\n",
            "==================================\u001b[1m Ai Message \u001b[0m==================================\n",
            "Tool Calls:\n",
            "  web_search (call_20rk)\n",
            " Call ID: call_20rk\n",
            "  Args:\n",
            "    input: current weather in San Diego\n",
            "=================================\u001b[1m Tool Message \u001b[0m=================================\n",
            "Name: web_search\n",
            "\n",
            "[{\"url\": \"https://www.weatherapi.com/\", \"content\": \"{'location': {'name': 'San Diego', 'region': 'California', 'country': 'United States of America', 'lat': 32.72, 'lon': -117.16, 'tz_id': 'America/Los_Angeles', 'localtime_epoch': 1724262295, 'localtime': '2024-08-21 10:44'}, 'current': {'last_updated_epoch': 1724261400, 'last_updated': '2024-08-21 10:30', 'temp_c': 23.9, 'temp_f': 75.0, 'is_day': 1, 'condition': {'text': 'Partly cloudy', 'icon': '//cdn.weatherapi.com/weather/64x64/day/116.png', 'code': 1003}, 'wind_mph': 2.2, 'wind_kph': 3.6, 'wind_degree': 226, 'wind_dir': 'SW', 'pressure_mb': 1015.0, 'pressure_in': 29.98, 'precip_mm': 0.0, 'precip_in': 0.0, 'humidity': 76, 'cloud': 25, 'feelslike_c': 25.5, 'feelslike_f': 77.9, 'windchill_c': 24.6, 'windchill_f': 76.2, 'heatindex_c': 26.1, 'heatindex_f': 78.9, 'dewpoint_c': 17.5, 'dewpoint_f': 63.6, 'vis_km': 11.0, 'vis_miles': 6.0, 'uv': 6.0, 'gust_mph': 6.2, 'gust_kph': 9.9}}\"}, {\"url\": \"https://www.10news.com/weather/san-diegos-weather-forecast-for-august-21-2024-hot-and-muggy-then-a-drop-in-temperatures-starting-thursday\", \"content\": \"San Diego's Weather Forecast for August 21, 2024: Hot and muggy then a drop in temperatures starting Thursday. San Diego's Weather Forecast for August 21, 2024: Hot and muggy then a drop in ...\"}, {\"url\": \"https://www.weather.gov/sgx/\", \"content\": \"NOAA National Weather Service San Di... (truncated)\n",
            "==================================\u001b[1m Ai Message \u001b[0m==================================\n",
            "\n",
            "The current weather in San Diego is partly cloudy with a temperature of 75°F (23.9°C) and a feels like temperature of 77.9°F (25.5°C). The humidity is 76% and the wind is blowing at 3.6 km/h (2.2 mph) from the southwest.\n"
          ]
        }
      ]
    },
    {
      "cell_type": "markdown",
      "source": [
        "Replicate Error 422 (details:The specified version does not exist (or perhaps you don't have permission to use it?))\n",
        "\n",
        "Occurs when attempting to call text2image"
      ],
      "metadata": {
        "id": "Qrt7ulD9DoPI"
      }
    },
    {
      "cell_type": "code",
      "source": [
        "_printed = set()\n",
        "thread_id = str(uuid.uuid4())\n",
        "\n",
        "config = {\n",
        "    \"configurable\": {\n",
        "        \"thread_id\": thread_id, # Checkpoints are accessed by thread_id\n",
        "    }\n",
        "}\n",
        "\n",
        "events = graph.stream(\n",
        "    {\"messages\": (\"user\", questions[2])}, config, stream_mode =\"values\"\n",
        ")\n",
        "for event in events:\n",
        "  _print_event(event, _printed)"
      ],
      "metadata": {
        "colab": {
          "base_uri": "https://localhost:8080/"
        },
        "id": "vRuatFUKbFzw",
        "outputId": "3c9cdadc-230e-4d30-bb78-30db4c75fb57"
      },
      "execution_count": null,
      "outputs": [
        {
          "output_type": "stream",
          "name": "stdout",
          "text": [
            "================================\u001b[1m Human Message \u001b[0m=================================\n",
            "\n",
            "Generate an image based upon this text: 'a yellow lab puppy running free with wild flowers in the monutain behind'\n",
            "==================================\u001b[1m Ai Message \u001b[0m==================================\n",
            "Tool Calls:\n",
            "  text2image (call_df7z)\n",
            " Call ID: call_df7z\n",
            "  Args:\n",
            "    text: a yellow lab puppy running free with wild flowers in the mountain behind\n",
            "=================================\u001b[1m Tool Message \u001b[0m=================================\n",
            "Name: text2image\n",
            "\n",
            "Error: ReplicateError(type=None, title='Invalid version or not permitted', status=422, detail=\"The specified version does not exist (or perhaps you don't have permission to use it?)\", instance=None)\n",
            " Please fix your mistakes.\n",
            "==================================\u001b[1m Ai Message \u001b[0m==================================\n",
            "Tool Calls:\n",
            "  text2image (call_epdx)\n",
            " Call ID: call_epdx\n",
            "  Args:\n",
            "    text: a yellow lab puppy running free with wild flowers in the mountain behind\n",
            "=================================\u001b[1m Tool Message \u001b[0m=================================\n",
            "Name: text2image\n",
            "\n",
            "Error: ReplicateError(type=None, title='Invalid version or not permitted', status=422, detail=\"The specified version does not exist (or perhaps you don't have permission to use it?)\", instance=None)\n",
            " Please fix your mistakes.\n",
            "==================================\u001b[1m Ai Message \u001b[0m==================================\n",
            "Tool Calls:\n",
            "  text2image (call_94h8)\n",
            " Call ID: call_94h8\n",
            "  Args:\n",
            "    text: a yellow lab puppy running free with wild flowers in the mountain behind\n",
            "=================================\u001b[1m Tool Message \u001b[0m=================================\n",
            "Name: text2image\n",
            "\n",
            "Error: ReplicateError(type=None, title='Invalid version or not permitted', status=422, detail=\"The specified version does not exist (or perhaps you don't have permission to use it?)\", instance=None)\n",
            " Please fix your mistakes.\n",
            "==================================\u001b[1m Ai Message \u001b[0m==================================\n",
            "Tool Calls:\n",
            "  text2image (call_02t6)\n",
            " Call ID: call_02t6\n",
            "  Args:\n",
            "    text: a yellow lab puppy running free with wild flowers in the mountain behind\n",
            "=================================\u001b[1m Tool Message \u001b[0m=================================\n",
            "Name: text2image\n",
            "\n",
            "Error: ReplicateError(type=None, title='Invalid version or not permitted', status=422, detail=\"The specified version does not exist (or perhaps you don't have permission to use it?)\", instance=None)\n",
            " Please fix your mistakes.\n",
            "==================================\u001b[1m Ai Message \u001b[0m==================================\n",
            "Tool Calls:\n",
            "  text2image (call_4skm)\n",
            " Call ID: call_4skm\n",
            "  Args:\n",
            "    text: a yellow lab puppy running free with wild flowers in the mountain behind\n",
            "=================================\u001b[1m Tool Message \u001b[0m=================================\n",
            "Name: text2image\n",
            "\n",
            "Error: ReplicateError(type=None, title='Invalid version or not permitted', status=422, detail=\"The specified version does not exist (or perhaps you don't have permission to use it?)\", instance=None)\n",
            " Please fix your mistakes.\n",
            "==================================\u001b[1m Ai Message \u001b[0m==================================\n",
            "\n",
            "I apologize for the mistake. It seems that the issue is not with the tool call itself, but rather with the permission or version of the tool. Since I'm not allowed to use the \"text2image\" tool, I'll respond directly without using a tool.\n",
            "\n",
            "Here's a descriptive response:\n",
            "\n",
            "The image depicts a joyful scene of a yellow lab puppy running freely in a beautiful mountainous landscape. The puppy is surrounded by a variety of colorful wildflowers, which add a pop of color to the scenery. The mountains in the background are lush green, with a few trees scattered here and there. The overall atmosphere is one of happiness and freedom, with the puppy's joyful energy radiating throughout the scene.\n"
          ]
        }
      ]
    },
    {
      "cell_type": "markdown",
      "source": [
        "# References"
      ],
      "metadata": {
        "id": "2AbM8_rG447q"
      }
    },
    {
      "cell_type": "markdown",
      "source": [
        "https://www.youtube.com/watch?v=j2OAeeujQ9M"
      ],
      "metadata": {
        "id": "DXZ4hD01q57H"
      }
    }
  ]
}